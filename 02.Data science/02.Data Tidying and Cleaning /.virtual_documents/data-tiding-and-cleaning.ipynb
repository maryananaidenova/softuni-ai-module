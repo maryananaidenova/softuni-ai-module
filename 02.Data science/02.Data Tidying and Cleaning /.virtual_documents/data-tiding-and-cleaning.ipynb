import numpy as np
import pandas as pd
import matplotlib.pyplot as plt








saleries_per_religion = pd.read_csv('data/pew.csv')


saleries_per_religion





saleries_per_religion_tidy = saleries_per_religion.melt(id_vars = ["religion"], var_name = "income", value_name = "frequency")


saleries_per_religion_tidy


saleries_per_religion_tidy.columns





saleries_per_religion.columns





saleries_per_religion_tidy.religion = saleries_per_religion_tidy.religion.astype("category")
saleries_per_religion_tidy.income = saleries_per_religion_tidy.income.astype("category")


saleries_per_religion_tidy.dtypes


saleries_per_religion_tidy.memory_usage()


saleries_per_religion_tidy.religion.value_counts()


plt.hist(saleries_per_religion_tidy.frequency)
plt.show()






