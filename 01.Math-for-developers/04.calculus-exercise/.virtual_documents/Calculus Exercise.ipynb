%matplotlib inline


import numpy as np
import matplotlib.pyplot as plt
# Write your imports here








def calculate_derivative_at_point(function, point, precision = 1e-7):
    """
    Calculates a numerical approximation to the derivative of the specified function
    at the given point
    """
    # return (function(point + precision) - function(point)) / precision
    # return (function(point) - function(point - precision)) / precision
    return (function(point + precision) - function(point - precision)) / (2 * precision)


def plot_derivative(function, derivative = None, min_x = -10, max_x = 10, equal_axes = True):
    """
    Plots the function and its derivative. 
    The `derivative` parameter is optional and can be provided as a separate function.
    If it's not provided, the derivative will be calculated automatically
    """
    # We're using vectorized functions to make our code simpler: this only hides the for-loop,
    # it doesn't provide any performance gain
    vectorized_function = np.vectorize(function)
    
    x = np.linspace(min_x, max_x, 1000)
    function_np = np.vectorize(function)
    y = function_np(x)
    
    dy = []
    if derivative is None:
        derivative_np = np.vectorize(calculate_derivative_at_point)
        dy = derivative_np(function, x)
    else:
        derivative_np = np.vectorize(derivative)
        dy = derivative_np(x)
    
    plt.plot(x, y, label = "function")
    plt.plot(x, dy, label = "derivate")
    
    if equal_axes:
        plt.gca().set_aspect("equal")
        
    plt.legend()
    plt.show()


calculate_derivative_at_point(lambda x: x ** 2, 0)





plot_derivative(lambda x: x ** 2, lambda x: 2 * x) # The derivative is calculated by hand
plot_derivative(lambda x: x ** 2) # The derivative is not pre-calculated, should be calculated inside the function


plot_derivative(lambda x: x ** 2, lambda x: 2 * x, -2.5, 2.5)





plot_derivative(np.sin)





def plot_derivative_at_point(function, point, derivative = None, min_x = -10, max_x = 10):
    """
    Plots the function in the range [x_min; x_max]. Computes the tangent line to the function
    at the given point and also plots it
    """
    vectorized_function = np.vectorize(function)
    
    x = np.linspace(min_x, max_x, 1000)
    y = vectorized_function(x)
    
    slope = 0 # Slope of the tangent line
    if derivative is None:
        slope = calculate_derivative_at_point(function, point)
    else:
        slope = derivative(point)
    
    intercept = function(point) - slope * point #b
    tangent_line_x = np.linspace(point - 2, point + 2, 10)
    tangent_line_y = slope * tangent_line_x + intercept
    plt.plot(x, y)
    plt.plot(tangent_line_x, tangent_line_y)
    
    plt.scatter(point, vectorized_function(point), color = "r")
    plt.show()


plot_derivative_at_point(lambda x: x ** 2, 2)





plot_derivative_at_point(lambda x: x ** 2, 2, min_x = 0, max_x = 4)





for x in np.arange(-8, 10, 2):
    plot_derivative_at_point(lambda x: x ** 2, x)


for x in np.arange(-8, 10, 2):
    plot_derivative_at_point(np.sin, x)








def calculate_limit_at_infinity(function):
    """
    Calculates a numerical approximation of the limit of the specified function
    as its parameter goes to infinity
    """
    n = 10 ** np.arange(0, 10)
    return zip(n, function(n))


limits = calculate_limit_at_infinity(lambda x: (1 + 1 / x) ** x)
for limit in limits:
    print(limit)





plot_derivative(lambda x: 2 ** x, min_x = 0, max_x = 10, equal_axes = False)





plot_derivative(lambda x: 2 ** x, min_x = 0, max_x = 20, equal_axes = False)





plot_derivative(lambda x: 0.5 ** x, equal_axes = False)





plot_derivative(np.exp, equal_axes = False)








def calculate_integral(function, x_min, x_max, num_points = 5000):
    """
    Calculates a numerical approximation of the definite integral of the provided function
    between the points x_min and x_max.
    The parameter n specifies the number of points at which the integral will be calculated
    """
    x = np.linspace(x_min, x_max, num_points)
    delta_x = (x_max - x_min) / num_points
    
    function_np = np.vectorize(function)
    y = function_np(x)
    result = (np.sum(2 * y) - y[0] - y[-1]) * delta_x / 2
    
    return result


print(calculate_integral(lambda x: x ** 2, 0, 1)) # Should be close to 0.333
print(calculate_integral(lambda x: np.sin(x ** 2), 0, 5)) # Should be close to 0.528





circle_piece_area = calculate_integral(lambda x: np.sqrt(1 - x ** 2), 0, 1)
total_area = 4 * circle_piece_area
print(total_area)












