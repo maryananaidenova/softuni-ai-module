{
 "cells": [
  {
   "cell_type": "code",
   "execution_count": 392,
   "id": "943b7db0-fa2f-4205-b974-0cba5d58dd48",
   "metadata": {
    "tags": []
   },
   "outputs": [],
   "source": [
    "import numpy as np\n",
    "import matplotlib.pyplot as plt"
   ]
  },
  {
   "cell_type": "markdown",
   "id": "99980aa4-c205-463c-bca2-cde8ab50d027",
   "metadata": {
    "tags": []
   },
   "source": [
    "# CANTOR SET"
   ]
  },
  {
   "cell_type": "markdown",
   "id": "0cb634bd-98b0-4ebf-896b-3c750112066e",
   "metadata": {},
   "source": [
    "## 1. Set theory history\n",
    "\n",
    "\n",
    "Set Theory is a branch of logical mathematics that studies the collection of objects and operations based on it. The modern study of set theory was initiated by the German mathematicians Richard Dedekind and Georg Cantor in the 1870s. In particular, Georg Cantor is commonly considered the founder of set theory. [[1]](#bibliography1) \n",
    "\n",
    "This theory grew out of his investigations of some concrete problems regarding certain types of infinite sets of real numbers. In 1873 Cantor demonstrated that the rational numbers, though infinite, are countable (or denumerable) because they may be placed in a one-to-one correspondence with the natural numbers (i.e., the integers, as 1, 2, 3,…). He showed that the set (or aggregate) of real numbers (composed of irrational and rational numbers) was infinite and uncountable. Even more paradoxically, he proved that the set of all algebraic numbers contains as many components as the set of all integers and that transcendental numbers (those that are not algebraic, as π), which are a subset of the irrationals, are uncountable and are therefore more numerous than integers, which must be conceived as infinite.\n",
    "\n",
    "But Cantor’s paper, in which he first put forward these results, was refused for publication in \"Crelle’s Journal\" by one of its referees, Kronecker, who furiously opposed his work. On Dedekind’s intervention, however, it was published in 1874 as “Über eine Eigenschaft des Inbegriffes aller reellen algebraischen Zahlen” (“On a Characteristic Property of All Real Algebraic Numbers”).[[2]](#bibliography2) \n",
    "\n",
    "The theory had the revolutionary aspect of treating infinite sets as mathematical objects that are on an equal footing with those that can be constructed in a finite number of steps. Since antiquity, a majority of mathematicians had carefully avoided the introduction into their arguments of the actual infinite (i.e., of sets containing an infinity of objects conceived as existing simultaneously, at least in thought). Since this attitude persisted until almost the end of the 19th century, Cantor’s work was the subject of much criticism to the effect that it dealt with fictions—indeed, that it encroached on the domain of philosophers and violated the principles of religion. Once applications to analysis began to be found, however, attitudes began to change, and by the 1890s Cantor’s ideas and results were gaining acceptance. By 1900, set theory was recognized as a distinct branch of mathematics. [[3]](#bibliography3) "
   ]
  },
  {
   "cell_type": "markdown",
   "id": "e2ddaae6-1e2d-448c-ba86-e74590a229fd",
   "metadata": {
    "tags": []
   },
   "source": [
    "## 2. What is Cantor set\n",
    "\n",
    "The Cantor (ternary) set was first published in 1883 by German mathematician Georg Cantor. The Cantor set plays a very important role in many branches of mathematics, above all in set theory, chaotic dynamical systems and fractal theory.  \n",
    "\n",
    "In mathematics, the Cantor set is a set of points lying on a single line segment, that has a number of unintuitive properties. Through consideration of this set, Cantor and others helped lay the foundations of modern point-set topology. The Cantor set is a classic example of a fractal and is constructed by repeatedly removing the middle third of a line segment and then repeating the process with the remaining shorter segments.[[4]](#bibliography4) "
   ]
  },
  {
   "cell_type": "markdown",
   "id": "6516b809-dd8e-4289-882b-2c344859489c",
   "metadata": {
    "tags": []
   },
   "source": [
    "### 2.1. Cantor ternary set construction\n",
    "\n",
    "The basic Cantor (ternary) set is a subset of the interval  $ \\big[0, 1 \\big] $ and has many definitions and many different constructions. Although Cantor originally provided a purely abstract definition, the most accessible is the „middle-thirds“ or ternary set construction.\n",
    "\n",
    "The Cantor ternary set $ 𝐶 $ is created by iteratively deleting the open middle third from a set of line segments.\n",
    "\n",
    "1. Lets start with the closed interval $ \\big[0, 1 \\big] $, representing all real numbers between $ 0 $ and $ 1 $.\n",
    "   $$ C_{0} = \\big[0, 1 \\big] $$\n",
    "   \n",
    "2. Then remove the open middle third $ \\big(\\frac{1}{3}, \\frac{2}{3} \\big) $, leaving two line segments: $ \\big[0, \\frac{1}{3} \\big] $  and $ \\big[\\frac{2}{3}, 1 \\big] $ \n",
    "\n",
    "   $$ C_{1} = \\bigg[0, \\frac{1}{3} \\bigg] \\cup \\bigg[\\frac{2}{3}, 1 \\bigg] $$\n",
    "   \n",
    "3. Next, the open middle third of each of these remaining segments is deleted, leaving four line segments:\n",
    "   $$ C_{2} = \\bigg[0, \\frac{1}{9} \\bigg] \\cup \\bigg[\\frac{2}{9}, \\frac{1}{3} \\bigg] \\cup \\bigg[\\frac{2}{3}, \\frac{7}{9} \\bigg] \\cup \\bigg[\\frac{8}{9}, 1 \\bigg]$$\n",
    "   \n",
    "3. Continue removing the middle third of each interval in $ C_{n} $\n",
    "\n",
    "4. Continue this process infinitely. The set of points left out in this process is called the “Cantor Set”. This set is also known as the “Cantor Ternary Set” and “Cantor Middle Third Set”.\n",
    "   $$ C = \\bigcap_{n = 0}^\\infty C_{n} $$"
   ]
  },
  {
   "cell_type": "code",
   "execution_count": 398,
   "id": "48111b71-f63e-4c99-94c4-dc6f5dabab6b",
   "metadata": {
    "tags": []
   },
   "outputs": [],
   "source": [
    "'''\n",
    "Splits the interval into 2 sub-intervals, by removing the middle open third\n",
    "    - accepts interval [a, b]\n",
    "    - returns a list wtih interval\n",
    "'''\n",
    "def remove_middle_third(interval):\n",
    "    a, b = interval\n",
    "    x = (2 * a + b) / 3\n",
    "    y = (a + 2 * b) / 3\n",
    "    \n",
    "    return [[a, x], [y, b]]"
   ]
  },
  {
   "cell_type": "code",
   "execution_count": 400,
   "id": "65224a8c-26f0-4f24-bb8e-98229e923677",
   "metadata": {
    "tags": []
   },
   "outputs": [],
   "source": [
    "'''\n",
    "starts with initial interval [0, 1] and continue splitting the intervals to sub-intervals\n",
    "    - accepts n - number of iterations\n",
    "    - returns a list wtih sub-intervals, by removing the open middle third for 'n' iterations\n",
    "'''\n",
    "def cantor_set(n):\n",
    "    interval = [[0, 1]]\n",
    "    \n",
    "    for i in range(n):\n",
    "        result = list()\n",
    "        \n",
    "        for sub_set in interval:\n",
    "            result.extend(remove_middle_third(sub_set))\n",
    "        interval = result\n",
    "        \n",
    "    return interval"
   ]
  },
  {
   "cell_type": "code",
   "execution_count": 402,
   "id": "effb5075-2b46-43c8-b12b-f3b192fc95ed",
   "metadata": {
    "tags": []
   },
   "outputs": [
    {
     "data": {
      "text/plain": [
       "[[0, 1]]"
      ]
     },
     "execution_count": 402,
     "metadata": {},
     "output_type": "execute_result"
    }
   ],
   "source": [
    "cantor_set(0)"
   ]
  },
  {
   "cell_type": "code",
   "execution_count": 404,
   "id": "bebca994-940d-4308-aa79-dd57509f00f2",
   "metadata": {
    "tags": []
   },
   "outputs": [
    {
     "data": {
      "text/plain": [
       "[[0, 0.3333333333333333], [0.6666666666666666, 1]]"
      ]
     },
     "execution_count": 404,
     "metadata": {},
     "output_type": "execute_result"
    }
   ],
   "source": [
    "cantor_set(1)"
   ]
  },
  {
   "cell_type": "code",
   "execution_count": 406,
   "id": "c1d8f669-ce6f-411f-b534-12ef5f6bff29",
   "metadata": {
    "tags": []
   },
   "outputs": [
    {
     "data": {
      "text/plain": [
       "[[0, 0.1111111111111111],\n",
       " [0.2222222222222222, 0.3333333333333333],\n",
       " [0.6666666666666666, 0.7777777777777777],\n",
       " [0.8888888888888888, 1]]"
      ]
     },
     "execution_count": 406,
     "metadata": {},
     "output_type": "execute_result"
    }
   ],
   "source": [
    "cantor_set(2)"
   ]
  },
  {
   "cell_type": "code",
   "execution_count": 408,
   "id": "28440db4-004d-4689-b8ad-286d500dde26",
   "metadata": {
    "tags": []
   },
   "outputs": [
    {
     "data": {
      "text/plain": [
       "[[0, 0.037037037037037035],\n",
       " [0.07407407407407407, 0.1111111111111111],\n",
       " [0.2222222222222222, 0.25925925925925924],\n",
       " [0.2962962962962963, 0.3333333333333333],\n",
       " [0.6666666666666666, 0.7037037037037036],\n",
       " [0.7407407407407406, 0.7777777777777777],\n",
       " [0.8888888888888888, 0.9259259259259259],\n",
       " [0.9629629629629629, 1]]"
      ]
     },
     "execution_count": 408,
     "metadata": {},
     "output_type": "execute_result"
    }
   ],
   "source": [
    "cantor_set(3)"
   ]
  },
  {
   "cell_type": "code",
   "execution_count": 410,
   "id": "e4fba2a0-a276-4cb5-b35c-be5f49785d59",
   "metadata": {
    "tags": []
   },
   "outputs": [],
   "source": [
    "'''\n",
    "plots a single line\n",
    "'''\n",
    "def plot_interval_line(interval, level, line_width = 10):\n",
    "    plt.plot(interval, [level, level], color = \"black\", linewidth = line_width, solid_capstyle = \"butt\")"
   ]
  },
  {
   "cell_type": "code",
   "execution_count": 412,
   "id": "40ce4d50-b27e-4faf-b414-6e050448c191",
   "metadata": {
    "tags": []
   },
   "outputs": [],
   "source": [
    "'''\n",
    "sets plot configs:\n",
    "    - chart title\n",
    "    - x axis label\n",
    "    - y axis label\n",
    "'''\n",
    "\n",
    "def set_plot(title, x_label, y_label, n):\n",
    "    plt.title(title)\n",
    "    plt.yticks(range(n))\n",
    "    plt.gca().invert_yaxis()\n",
    "    plt.xlabel(x_label)\n",
    "    plt.ylabel(y_label)"
   ]
  },
  {
   "cell_type": "code",
   "execution_count": 414,
   "id": "8779c9cd-eea6-41c5-b6d9-23d91bdf9230",
   "metadata": {
    "tags": []
   },
   "outputs": [],
   "source": [
    "'''\n",
    "plots Cantor set for 'n' iterations\n",
    "    - n - number of iterations\n",
    "'''\n",
    "def plot_cantor_set(n):\n",
    "    level = 0\n",
    "    \n",
    "    while level <= n:\n",
    "        for interval in cantor_set(level):\n",
    "            plot_interval_line(interval, level)\n",
    "        \n",
    "        level += 1\n",
    "    \n",
    "    plot_title = 'Cantor Set (removing middle third) - C({n})'.format(n=n)\n",
    "    set_plot(plot_title, 'interval', 'iteration', n)\n",
    "    \n",
    "    plt.show()"
   ]
  },
  {
   "cell_type": "code",
   "execution_count": 416,
   "id": "ff2c16cb-5e8c-4b09-9526-bd0b38f6a0ec",
   "metadata": {
    "tags": []
   },
   "outputs": [
    {
     "data": {
      "image/png": "[encoded data removed]",
      "text/plain": [
       "<Figure size 640x480 with 1 Axes>"
      ]
     },
     "metadata": {},
     "output_type": "display_data"
    }
   ],
   "source": [
    "plot_cantor_set(3)"
   ]
  },
  {
   "cell_type": "markdown",
   "id": "3045aa28-053d-4aec-9cff-78a9c5876ec3",
   "metadata": {},
   "source": [
    "The process can continue and for each iteration to remove the midle third."
   ]
  },
  {
   "cell_type": "code",
   "execution_count": 419,
   "id": "d259bb46-c173-491e-99af-dd71a5b038be",
   "metadata": {
    "tags": []
   },
   "outputs": [
    {
     "data": {
      "image/png": "[encoded data removed]",
      "text/plain": [
       "<Figure size 640x480 with 1 Axes>"
      ]
     },
     "metadata": {},
     "output_type": "display_data"
    }
   ],
   "source": [
    "plot_cantor_set(5)"
   ]
  },
  {
   "cell_type": "markdown",
   "id": "966cf46d-f964-48c9-8bfd-d85b7d7f7f68",
   "metadata": {
    "tags": []
   },
   "source": [
    "## 3. Properties of the Cantor set [[5]](#bibliography5) "
   ]
  },
  {
   "cell_type": "markdown",
   "id": "3fd8a8e9-2c07-481c-bebb-30557c3995da",
   "metadata": {},
   "source": [
    "### 3.1. Uncountable\n",
    "\n",
    "**Theorem 2.** The standard Cantor set is uncountable.\n",
    "\n",
    "Proof:\n",
    "One of the most notable properties of the standard Cantor set is that it contains uncountably many points. This is despite $ C $ being very small in that it is the result of an intersection of countably many decreasing sets.\n",
    "\n",
    "First, consider every element of $ C $ in its ternary representation. Supposing the standard Cantor set is countable, then there is a listing of all the elements of $ C $, for instance:\n",
    "0.200200222...,\n",
    "0.002202002...,\n",
    "0.202220002...,\n",
    "0.002020200...,\n",
    "...\n",
    "Now, construct a new element by swapping the nth decimal digit of the nth element in the list from either 0 to 2 or 2 to 0. In this case the new element is 0.0202..., which is different from any existing element in the list. However, by the above theorem, this new number must also be in $ C $, which contradicts that we had listed all elements of $ C $. Therefore, it is impossible to find a complete enumeration of all the elements in the standard Cantor set, so it must be uncountable. Note that this is very similar to the common diagonalization argument which shows that $ \\mathbb{R} $ is uncountable."
   ]
  },
  {
   "cell_type": "markdown",
   "id": "f97c7990-7dca-447a-a2d7-5cda63e9ca31",
   "metadata": {},
   "source": [
    "### 3.2. Closed\n",
    "\n",
    "**Theorem 3.** The standard Cantor set is closed.\n",
    "\n",
    "Proof:\n",
    "The Cantor set is an intersection of countably many sets, each of which is a finite union of closed intervals, so closed itself. Thus, the standard Cantor set is\n",
    "the intersection of countably many closed sets, which implies it is closed."
   ]
  },
  {
   "cell_type": "markdown",
   "id": "e060f09f-aa04-4bec-a9fb-940f370bb1c4",
   "metadata": {},
   "source": [
    "### 3.3. Nowhere dense\n",
    "\n",
    "**Theorem 4.** The standard Cantor set is nowhere dense.\n",
    "\n",
    "Proof:\n",
    "We have shown the Cantor set is closed, so its closure is itself. Suppose a subset of the Cantor set is dense, then the subset contains at least one interval,\n",
    "denoted as $ A = [a, b] $, where $ a \\ge 0 $ and $ b \\ge 1 (a, b \\in \\mathbb{R}, a < b) $. Written in base 3, both a and b are composed of only 0 and 2,\n",
    "given that the two points are both in the Cantor set. Now, locate the first from left decimal digit that $ a $ and $ b $ differ from each other and replace it with a 1. For example, if $ a = 0.20202... $ and $ b = 0.20222... $ in base, then let $ c = 0.2021... $ in base 3,  where the remaining digits don’t really matter. Since the first 3 digits of $ a $, $ b $, and $ c $ are the same, we are able to argue that $ a < c < b $ and that $ c $ is not in the ternary Cantor set since it contains the digit 1. A contradiction is therefore achieved, and the Cantor set is nowhere dense. "
   ]
  },
  {
   "cell_type": "markdown",
   "id": "1e3e5207-84e7-4d84-9d09-e42b3df42216",
   "metadata": {},
   "source": [
    "### 3.4. Totally disconnected\n",
    "\n",
    "**Theorem 5.** The standard Cantor set is totally disconnected.\n",
    "\n",
    "Proof:\n",
    "A totally disconnected space is a topological space that has no non-trivial connected subsets. In other words, the only connected components in any totally disconnected space $ X $ are the one-point sets.\n",
    "\n",
    "Specifically, any two elements of the standard Cantor set are separated by at least one point not\n",
    "in $ C $. If this is the case, no two distinct points can be part of the same connected component, so the set is totally disconnected."
   ]
  },
  {
   "cell_type": "markdown",
   "id": "f9054588-b644-4325-92cd-ea74cc64d6e8",
   "metadata": {},
   "source": [
    "### 3.5. Consists of exactly those numbers in $ [0, 1] $ that can be written in base 3 without 1s.\n",
    "\n",
    "**Theorem 1.** The standard Cantor set consists of exactly those numbers in $ [0, 1] $ that can be written in base 3 without 1s.\n",
    "\n",
    "Proof:\n",
    "Lets begin by showing that the standard Cantor set only consists of such elements:\n",
    "\n",
    "Write all numbers from the unit interval in base 3. For instance, the number 0.25 in base 10 is written in base 3 as 0.020202... . If a number can be written using only 0 and 2, consider the latter representation of it. For instance, the number 0.1 in base three is the same as 0.022222... in base three. It is easy to check that .1 is in the standard Cantor set, which is why lets consider it represented as .022222... \n",
    "proceeding by induction, starting with the base case: those in C1 are either smaller than $ \\frac{1}{3} $ or bigger than $ \\frac{1}{3} $. Therefore, their first decimal digits are either 0 or 2.\n",
    "\n",
    "Now, the inductive step: suppose all elements in $ C_{n} $ can be written in base 3 with only 0 and 2 in the first $ n $ decimal places. Then since $ C_{n+1} = \\frac{C{n}}{3} \\cup \\big ( \\frac{2}{3} + \\frac{C_{n}}{3} \\big ) $ for $ n \\ge 1 $, we deduce that all elements in $ C_{n+1} $ can be written in base 3 with only 0 and 2 on the first $ n + 1 $ decimal places. Specifically, their 2 to $ (n + 1) $ digits are copied from the 1 to $ n $ digits of the corresponding elements in $ C_{n} $, and the firs digit is either 0 or 2 depending on whether they belong to the left or right portion of the Cantor set.\n",
    "\n",
    "Supposing that there is any 1 that appears in the ternary representation of an element in the Cantor set, it would have to appear in a certain place, say the $ k  $ th digit. This is impossible by the above induction, which gives that there is no digit where a 1 can appear.\n",
    "\n",
    "Now for the other direction, we want to show by induction that all the numbers in $ [0, 1] $ that can be written in base-3 without 1’s are in the standard Cantor set.\n",
    "\n",
    "For the base case, we know that all the numbers in $ [0, 1]$ that are written base 3 with either 0 or 2 in the first decimal digit are in $ C_{1} $, since all the numbers in $ [0, \\frac{1}{3}] $ have a 0 as the first digit of their ternary representation (writing 1/3 = .0222...), and all the numbers in $ [\\frac{2}{3}, 1] $ have a 2 as the first digit (writing 1 = .222).\n",
    "\n",
    "Now, suppose all numbers that can be written in base 3 with only 0 and 2 on the first n decimal places are in $ C_{n} $. Now, we take out from these elements those that have a 1 in the $ n + 1 $th decimal place. then we see all the remaining numbers are in $ C_{n+1} $, $ C_{n+1} = \\frac{C{n}}{3} \\cup \\big ( \\frac{2}{3} + \\frac{C_{n}}{3} \\big ) $ for $ n \\ge 1 $. If a number has no 1 in its ternary, there will be no $ C_{k} $ which it doesn’t appear in, so it will be in $ C $, the intersection of all $ C_{k} $."
   ]
  },
  {
   "cell_type": "markdown",
   "id": "15f3cad0-58a6-4c1c-b626-675f17e498df",
   "metadata": {},
   "source": [
    "## 4. Cantor set variations"
   ]
  },
  {
   "cell_type": "markdown",
   "id": "cec0ce6a-f631-4aef-a636-9d3c02164813",
   "metadata": {},
   "source": [
    "### 4.1. Smith–Volterra–Cantor set\n",
    "\n",
    "In mathematics, the Smith–Volterra–Cantor set (SVC), or **fat Cantor set** is an example of a set of points on the real line that is nowhere dense (in particular it contains no intervals), yet has positive measure. The Smith–Volterra–Cantor set is named after the mathematicians Henry Smith, Vito Volterra and Georg Cantor. The Smith–Volterra–Cantor set is topologically equivalent to the middle-thirds Cantor set.\n",
    "\n",
    "Similar to the construction of the Cantor set, the Smith–Volterra–Cantor set is constructed by removing certain intervals from the unit interval $[0, 1] $. The process begins by removing the middle $ \\frac{1}{4} $ from the interval (the same as removing $ \\frac{1}{8} $ on either side of the middle point at $ \\frac{1}{2} $) so the remaining set is:\n",
    "$$ \\bigg[0, \\frac{3}{8} \\bigg] \\cup \\bigg[\\frac{5}{8}, 1 \\bigg] $$\n",
    "\n",
    "The following steps consist of removing subintervals of width $ \\frac{1}{4^n} $ from the middle of each $ 2^{n - 1} $ of the remaining intervals. So for the second step the intervals $ ( \\frac{5}{32},  \\frac{7}{32} ) $ and $ ( \\frac{25}{32},  \\frac{27}{32} ) $ are removed, leaving:\n",
    "$$ \\bigg[0, \\frac{5}{32} \\bigg] \\cup \\bigg[\\frac{7}{32}, \\frac{3}{8} \\bigg]  \\cup \\bigg[\\frac{5}{8}, \\frac{25}{32} \\bigg] \\cup \\bigg[\\frac{27}{32}, 1 \\bigg] $$\n",
    "\n",
    "Continuing indefinitely with this removal, the Smith–Volterra–Cantor set is then the set of points that are never removed. \n",
    "\n",
    "Each subsequent iterate in the Smith–Volterra–Cantor set's construction removes proportionally less from the remaining intervals. This stands in contrast to the Cantor set, where the proportion removed from each interval remains constant. Thus, the Smith–Volterra–Cantor set has positive measure while the Cantor set has zero measure. [[6]](#bibliography6)"
   ]
  },
  {
   "cell_type": "code",
   "execution_count": 429,
   "id": "4066250e-1cf4-4316-9ff0-6ef45b4565a1",
   "metadata": {
    "tags": []
   },
   "outputs": [],
   "source": [
    "'''\n",
    "Splits the interval into 2 sub-intervals, by removing the middle open forths\n",
    "    - accepts interval [a, b]\n",
    "    - returns a list wtih interval\n",
    "'''\n",
    "def remove_middle_forths(interval, n):\n",
    "    a, b = interval\n",
    "    mid = (b - a) / 2\n",
    "    delim = 8 * n * n\n",
    "    \n",
    "    x = a + mid - (1 / delim)\n",
    "    y = a + mid + (1 / delim)\n",
    "    \n",
    "    return [[a, x], [y, b]]"
   ]
  },
  {
   "cell_type": "code",
   "execution_count": 431,
   "id": "9e83fbbc-b807-4d20-9532-2e5f7e6abe66",
   "metadata": {
    "tags": []
   },
   "outputs": [],
   "source": [
    "'''\n",
    "starts with initial interval [0, 1] and continue splitting the intervals to sub-intervals\n",
    "    - accepts n - number of iterations\n",
    "    - returns a list wtih sub-intervals, by removing the open middle forths, for 'n' iterations\n",
    "'''\n",
    "def fat_cantor_set(n):\n",
    "    interval = [[0, 1]]\n",
    "    \n",
    "    for i in range(n):\n",
    "        result = list()\n",
    "        \n",
    "        for sub_set in interval:\n",
    "            result.extend(remove_middle_forths(sub_set, i + 1))\n",
    "        interval = result\n",
    "        \n",
    "    return interval"
   ]
  },
  {
   "cell_type": "code",
   "execution_count": 433,
   "id": "21c75c18-0c28-4bfa-99b1-f717447e78af",
   "metadata": {
    "tags": []
   },
   "outputs": [
    {
     "data": {
      "text/plain": [
       "[[0, 1]]"
      ]
     },
     "execution_count": 433,
     "metadata": {},
     "output_type": "execute_result"
    }
   ],
   "source": [
    "fat_cantor_set(0)         #[[0, 1]]"
   ]
  },
  {
   "cell_type": "code",
   "execution_count": 435,
   "id": "baa6f404-0056-49d8-b6d0-d2a3df468877",
   "metadata": {
    "tags": []
   },
   "outputs": [
    {
     "data": {
      "text/plain": [
       "[[0, 0.375], [0.625, 1]]"
      ]
     },
     "execution_count": 435,
     "metadata": {},
     "output_type": "execute_result"
    }
   ],
   "source": [
    "fat_cantor_set(1)         #[[0, 0.375], [0.625, 1]]"
   ]
  },
  {
   "cell_type": "code",
   "execution_count": 437,
   "id": "b5c5f8ab-5b82-4dbd-8725-157bd6236200",
   "metadata": {
    "tags": []
   },
   "outputs": [
    {
     "data": {
      "text/plain": [
       "[[0, 0.15625], [0.21875, 0.375], [0.625, 0.78125], [0.84375, 1]]"
      ]
     },
     "execution_count": 437,
     "metadata": {},
     "output_type": "execute_result"
    }
   ],
   "source": [
    "fat_cantor_set(2)         #[[0, 0.15625], [0.21875, 0.375], [0.625, 0.78125], [0.84375, 1]]"
   ]
  },
  {
   "cell_type": "code",
   "execution_count": 439,
   "id": "80075f48-5045-445a-91aa-80a092d3c76f",
   "metadata": {
    "tags": []
   },
   "outputs": [],
   "source": [
    "'''\n",
    "plots Fat Cantor set for 'n' iterations\n",
    "    - n - number of iterations\n",
    "'''\n",
    "def plot_cantor_set_fat(n):\n",
    "    level = 0\n",
    "    \n",
    "    while level <= n:\n",
    "        for interval in fat_cantor_set(level):\n",
    "            plot_interval_line(interval, level,20)\n",
    "        \n",
    "        level += 1\n",
    "    \n",
    "    plot_title = 'Fat Cantor Set - C({n})'.format(n=n)\n",
    "    set_plot(plot_title, 'interval', 'iteration', n)\n",
    "    plt.show()"
   ]
  },
  {
   "cell_type": "code",
   "execution_count": 441,
   "id": "6b599b17-05d3-49be-b0ee-ec11f32a6340",
   "metadata": {
    "tags": []
   },
   "outputs": [
    {
     "data": {
      "image/png": "[encoded data removed]",
      "text/plain": [
       "<Figure size 640x480 with 1 Axes>"
      ]
     },
     "metadata": {},
     "output_type": "display_data"
    }
   ],
   "source": [
    "plot_cantor_set_fat(2)"
   ]
  },
  {
   "cell_type": "code",
   "execution_count": 443,
   "id": "f6493e17-5999-417b-9d12-cb6a132b0a64",
   "metadata": {
    "tags": []
   },
   "outputs": [
    {
     "data": {
      "image/png": "[encoded data removed]",
      "text/plain": [
       "<Figure size 640x480 with 1 Axes>"
      ]
     },
     "metadata": {},
     "output_type": "display_data"
    }
   ],
   "source": [
    "plot_cantor_set_fat(5)"
   ]
  },
  {
   "cell_type": "markdown",
   "id": "cf047750-c192-4910-94b1-75e20affc68c",
   "metadata": {},
   "source": [
    "### 4.2. Cantor dust \n",
    "\n",
    "Cantor dust is a multi-dimensional version of the Cantor set. It can be formed by taking a finite Cartesian product of the Cantor set with itself, making it a Cantor space. Like the Cantor set, Cantor dust has zero measure. \n",
    "\n",
    "A different 2D analogue of the Cantor set is the Sierpinski carpet, where a square is divided up into nine smaller squares, and the middle one removed. The remaining squares are then further divided into nine each and the middle removed, and so on ad infinitum.[[7]](#bibliography7)\n",
    "\n",
    "**Example for 2D Cantor dust:**\n",
    "\n",
    "Cantor dust is a two-dimensional fractal figure generated beginning with a square; with each iteration, remove the middle third horizontal and vertical stripe of each square in the figure. \n",
    "\n",
    "<img src=\"./2D_cantor_dust.png\" alt=\"2D cantor dust\" width=\"600\" style=\"margin: 0 auto\"/>\n",
    "\n",
    "**Example for 3D Cantor dust:**\n",
    "\n",
    "The same process can be carried out in three dimensions:\n",
    "\n",
    "<img src=\"./3D_cantor_dust.png\" alt=\"3D cantor dust\" width=\"600\" style=\"margin: 0 auto\"/>"
   ]
  },
  {
   "cell_type": "markdown",
   "id": "af502daf-98e1-4ee5-a3e8-68ac5793cffc",
   "metadata": {},
   "source": [
    "## 5. Cantor set application in analysis"
   ]
  },
  {
   "cell_type": "markdown",
   "id": "276cbba9-d83a-4d17-ab20-a0ed91a03887",
   "metadata": {
    "jp-MarkdownHeadingCollapsed": true,
    "tags": []
   },
   "source": [
    "### 5.1. Cantor function\n",
    "\n",
    "In mathematics, the  Cantor function is an example of a function that is continuous, but not absolutely continuous. It is a notorious counterexample in analysis, because it challenges naive intuitions about continuity, derivative, and measure. Though it is continuous everywhere and has zero derivative almost everywhere, its value still goes from 0 to 1 as its argument reaches from 0 to 1. Thus, in one sense the function seems very much like a constant one which cannot grow, and in another, it does indeed monotonically grow.\n",
    "\n",
    "It is also called the Cantor ternary function, the Lebesgue function Lebesgue's singular function, the Cantor–Vitali function, the Devil's staircase, the Cantor staircase function and the Cantor–Lebesgue function. Georg Cantor (1884) introduced the Cantor function and mentioned that Scheeffer pointed out that it was a counterexample to an extension of the fundamental theorem of calculus claimed by Harnack. The Cantor function was discussed and popularized by Scheeffer (1884), Lebesgue (1904) and Vitali (1905).[[8]](#bibliography8)\n",
    "\n",
    "The Cantor function is closely related to the Cantor set. The Cantor set $ C $ can be defined as the set of those numbers in the interval $ \\big[0, 1 \\big] $ that do not contain the digit 1 in their base-3 expansion, except if the 1 is followed by zeros only (in which case the tail 1000... can be replaced by 0222... to get rid of any 1). It turns out that the Cantor set is a fractal with (uncountably) infinitely many points (zero-dimensional volume), but zero length (one-dimensional volume). Only the D-dimensional volume $ H_{D} $ (in the sense of a Hausdorff-measure) takes a finite value, where $ D = \\frac{\\log(2)}{\\log(3)} $ is the fractal dimension of $ C $. We may define the Cantor function alternatively as the D-dimensional volume of sections of the Cantor set $$ f(x) = H_{D}(C \\cap (0, x)) $$"
   ]
  },
  {
   "cell_type": "markdown",
   "id": "001bc079-4cb6-4f22-b2f8-0578022bf5d2",
   "metadata": {},
   "source": [
    "### 5.2. Cantor funtion algorithm\n",
    "\n",
    "The standard Cantor function, or the Cantor ternary function $ C $ : $ \\big[0, 1 \\big] $ → $ \\big[0, 1 \\big] $ is defined as follows:\n",
    "1. Express x in base 3.\n",
    "2. If x contains a 1, replace every digit strictly after the first 1 by 0.\n",
    "3. Replace any remaining 2s before the 1 with 1s.\n",
    "4. Interpret the result in binary."
   ]
  },
  {
   "cell_type": "code",
   "execution_count": 449,
   "id": "603cf3ca-98d2-4ed6-9c5e-7803035b5351",
   "metadata": {
    "tags": []
   },
   "outputs": [],
   "source": [
    "def split_interval(interval):\n",
    "    a, b = interval\n",
    "    x = (a + b) / 2\n",
    "    \n",
    "    return [[a, x], [x, b]]"
   ]
  },
  {
   "cell_type": "code",
   "execution_count": 451,
   "id": "4f126ba7-04d7-4cf3-9ba0-1fbe2c3129af",
   "metadata": {
    "tags": []
   },
   "outputs": [],
   "source": [
    "'''\n",
    "splits the [0, 1] interval to 2 * n equal parts\n",
    "'''\n",
    "def get_intervals(n):\n",
    "    interval = [[0,1]]\n",
    "    \n",
    "    for i in range(n):\n",
    "        result = list()\n",
    "        \n",
    "        for sub_set in interval:\n",
    "            result.extend(split_interval(sub_set))\n",
    "        interval = result\n",
    "        \n",
    "    return interval"
   ]
  },
  {
   "cell_type": "code",
   "execution_count": 453,
   "id": "1826ad00-a768-4c16-8c1c-9f70d3639cae",
   "metadata": {
    "tags": []
   },
   "outputs": [
    {
     "data": {
      "text/plain": [
       "[[0, 1]]"
      ]
     },
     "execution_count": 453,
     "metadata": {},
     "output_type": "execute_result"
    }
   ],
   "source": [
    "get_intervals(0)"
   ]
  },
  {
   "cell_type": "code",
   "execution_count": 455,
   "id": "466605e1-78f3-4936-a259-31f7863679a5",
   "metadata": {
    "tags": []
   },
   "outputs": [
    {
     "data": {
      "text/plain": [
       "[[0, 0.5], [0.5, 1]]"
      ]
     },
     "execution_count": 455,
     "metadata": {},
     "output_type": "execute_result"
    }
   ],
   "source": [
    "get_intervals(1)"
   ]
  },
  {
   "cell_type": "code",
   "execution_count": 457,
   "id": "f9fc6ab3-fb23-4430-8fdb-2a9a8bbfc7f4",
   "metadata": {
    "tags": []
   },
   "outputs": [
    {
     "data": {
      "text/plain": [
       "[[0, 0.25], [0.25, 0.5], [0.5, 0.75], [0.75, 1]]"
      ]
     },
     "execution_count": 457,
     "metadata": {},
     "output_type": "execute_result"
    }
   ],
   "source": [
    "get_intervals(2)"
   ]
  },
  {
   "cell_type": "code",
   "execution_count": 459,
   "id": "36040c56-ebec-4924-8789-c44527409742",
   "metadata": {
    "tags": []
   },
   "outputs": [
    {
     "data": {
      "text/plain": [
       "[[0, 0.125],\n",
       " [0.125, 0.25],\n",
       " [0.25, 0.375],\n",
       " [0.375, 0.5],\n",
       " [0.5, 0.625],\n",
       " [0.625, 0.75],\n",
       " [0.75, 0.875],\n",
       " [0.875, 1]]"
      ]
     },
     "execution_count": 459,
     "metadata": {},
     "output_type": "execute_result"
    }
   ],
   "source": [
    "get_intervals(3)"
   ]
  },
  {
   "cell_type": "code",
   "execution_count": 461,
   "id": "d43350c5-4030-49f8-ae29-e4829aed204a",
   "metadata": {
    "tags": []
   },
   "outputs": [],
   "source": [
    "'''\n",
    "plots Cantor function points\n",
    "'''\n",
    "def get_points(n):\n",
    "    x_points = list()\n",
    "    y_points = list()\n",
    "    intervals = zip(cantor_set(n), get_intervals(n))\n",
    "    \n",
    "    for x, y in intervals:\n",
    "        x_points.extend(x)\n",
    "        y_points.extend(y)\n",
    "        \n",
    "    return np.array(x_points), np.array(y_points)"
   ]
  },
  {
   "cell_type": "code",
   "execution_count": 463,
   "id": "03fc8f58-2c8f-4c28-bd7d-bf9b8ceb8dee",
   "metadata": {
    "tags": []
   },
   "outputs": [],
   "source": [
    "'''\n",
    "plots Cantor function for n iterations\n",
    "'''\n",
    "def cantor_function(n):\n",
    "    x_points, y_points = get_points(n)\n",
    "    plt.plot(x_points, y_points, color='blue')\n",
    "        \n",
    "    plt.title('Cantor Function ({n})'.format(n=n))\n",
    "    plt.xlim([-0.1, 1.1])\n",
    "    plt.ylim([-0.1, 1.1])\n",
    "    plt.xlabel('x')\n",
    "    plt.ylabel('y')\n",
    "    plt.show()"
   ]
  },
  {
   "cell_type": "code",
   "execution_count": 465,
   "id": "8e0d328a-b232-483a-bd0c-115420104eb0",
   "metadata": {
    "tags": []
   },
   "outputs": [
    {
     "data": {
      "image/png": "[encoded data removed]",
      "text/plain": [
       "<Figure size 640x480 with 1 Axes>"
      ]
     },
     "metadata": {},
     "output_type": "display_data"
    }
   ],
   "source": [
    "cantor_function(0)"
   ]
  },
  {
   "cell_type": "code",
   "execution_count": 467,
   "id": "871497af-1da6-4afc-8334-0f62c0e70c5f",
   "metadata": {
    "tags": []
   },
   "outputs": [
    {
     "data": {
      "image/png": "[encoded data removed]",
      "text/plain": [
       "<Figure size 640x480 with 1 Axes>"
      ]
     },
     "metadata": {},
     "output_type": "display_data"
    }
   ],
   "source": [
    "cantor_function(1)"
   ]
  },
  {
   "cell_type": "code",
   "execution_count": 469,
   "id": "78284198-f0d5-44ac-82f7-de3b4cd74d98",
   "metadata": {
    "tags": []
   },
   "outputs": [
    {
     "data": {
      "image/png": "[encoded data removed]",
      "text/plain": [
       "<Figure size 640x480 with 1 Axes>"
      ]
     },
     "metadata": {},
     "output_type": "display_data"
    }
   ],
   "source": [
    "cantor_function(2)"
   ]
  },
  {
   "cell_type": "code",
   "execution_count": 471,
   "id": "2bd9dc3d-b1fa-416b-a4d7-f73ed52dec94",
   "metadata": {
    "tags": []
   },
   "outputs": [
    {
     "data": {
      "image/png": "[encoded data removed]",
      "text/plain": [
       "<Figure size 640x480 with 1 Axes>"
      ]
     },
     "metadata": {},
     "output_type": "display_data"
    }
   ],
   "source": [
    "cantor_function(3)"
   ]
  },
  {
   "cell_type": "code",
   "execution_count": 473,
   "id": "7fcc067b-8db6-49c2-b5ae-1c0a3a513c3d",
   "metadata": {
    "tags": []
   },
   "outputs": [
    {
     "data": {
      "image/png": "[encoded data removed]",
      "text/plain": [
       "<Figure size 640x480 with 1 Axes>"
      ]
     },
     "metadata": {},
     "output_type": "display_data"
    }
   ],
   "source": [
    "cantor_function(5)"
   ]
  },
  {
   "cell_type": "markdown",
   "id": "b740acc3-be7d-4c5e-b9de-b37f262f6f26",
   "metadata": {
    "jp-MarkdownHeadingCollapsed": true,
    "tags": []
   },
   "source": [
    "## 6. Cantor set application in real word\n",
    "\n",
    "The Cantor set, despite its seemingly abstract mathematical construction, has intriguing applications across various fields. Here are some notable real-world applications:\n",
    "\n",
    "1. **Signal Processing and Telecommunications:**\n",
    "\n",
    "In signal processing, the Cantor set can be used to create signals with specific fractal properties. These signals are useful in telecommunications for their resilience to noise and efficient transmission characteristics.\n",
    "\n",
    "2. **Fractal Antennas:**\n",
    "\n",
    "Antennas designed using fractal geometry, including principles inspired by the Cantor set, exhibit multi-band or broadband properties. They are compact and efficient, making them suitable for modern wireless communication systems.\n",
    "\n",
    "3. **Compression Algorithms:**\n",
    "\n",
    "Fractal-based compression algorithms utilize self-similarity properties akin to those found in the Cantor set. These algorithms efficiently compress images and other data by encoding repeated patterns at different scales, reducing file sizes while retaining detail. [[9]](#bibliography9)\n",
    "\n",
    "4. **Economics and Finance:**\n",
    "\n",
    "The Cantor set's fractal nature has been applied to modeling financial time series, such as stock prices or currency exchange rates. Fractal analysis can capture long-range dependence and self-similar patterns in these data, aiding in risk assessment and market forecasting.\n",
    "\n",
    "5. **Number Theory and Real Analysis:**\n",
    "\n",
    "The Cantor set provides examples of perfect sets in real analysis and serves as a counterintuitive demonstration in number theory. It highlights the existence of uncountably infinite sets with zero measure, challenging conventional notions about size and density in mathematics.\n",
    "\n",
    "6. **Control Systems and Chaos Theory:**\n",
    "\n",
    "Systems exhibiting chaotic behavior, such as those described by fractal sets like the Cantor set, are studied in chaos theory and control systems. Understanding these dynamics is crucial for predicting and controlling complex systems in engineering and biology. [[10]](#bibliography10) \n",
    "\n",
    "7. **Computer Graphics and Visual Arts:**\n",
    "\n",
    "Fractal geometry, including elements inspired by the Cantor set, is used in computer graphics to generate realistic natural scenes (such as landscapes) and intricate patterns. It also influences artistic expressions, providing tools for creating visually compelling designs and textures.\n",
    "\n",
    "In essence, the Cantor set and its fractal properties have permeated diverse disciplines, offering insights and practical tools that leverage its unique mathematical characteristics in various real-world applications."
   ]
  },
  {
   "cell_type": "markdown",
   "id": "44b27fc4-80df-4d4a-befe-73b1f66cf0d1",
   "metadata": {
    "tags": []
   },
   "source": [
    "## Footnotes\n",
    "1. *Line segment* - in geometry, a line segment is a part of a straight line that is bounded by two distinct end points, and contains every point on the line that is between its endpoints. It is a special case of an arc, with zero curvature. The length of a line segment is given by the Euclidean distance between its endpoints.\n",
    "2. *Lebesgue measure* - In measure theory, a branch of mathematics, the Lebesgue measure, named after French mathematician Henri Lebesgue, is the standard way of assigning a measure to subsets of higher dimensional Euclidean n-spaces. For lower dimensions n = 1, 2, or 3, it coincides with the standard measure of length, area, or volume. In general, it is also called n-dimensional volume, n-volume, hypervolume, or simply volume. It is used throughout real analysis, in particular to define Lebesgue integration. Sets that can be assigned a Lebesgue measure are called Lebesgue-measurable; the measure of the Lebesgue-measurable set A is here denoted by λ(A).\n",
    "3. Fractal antenna - an antenna that uses a fractal, self-similar design to maximize the effective length, or increase the perimeter (on inside sections or the outer structure), of material that can receive or transmit electromagnetic radiation within a given total surface area or volume."
   ]
  },
  {
   "cell_type": "markdown",
   "id": "375dcaba-ab73-4d01-91cc-40a67b0336bb",
   "metadata": {},
   "source": [
    "## Bibliography\n",
    "\n",
    "1. <sup id=\"bibliography1\"></sup> Set theory - [https://en.wikipedia.org/wiki/Set_theory](https://en.wikipedia.org/wiki/Set_theory)\n",
    "2. <sup id=\"bibliography2\"></sup> Georg Cantor - [https://www.britannica.com/biography/Georg-Ferdinand-Ludwig-Philipp-Cantor](https://www.britannica.com/biography/Georg-Ferdinand-Ludwig-Philipp-Cantor)\n",
    "3. <sup id=\"bibliography3\"></sup> Set theory - [https://www.britannica.com/science/set-theory](https://www.britannica.com/science/set-theory)\n",
    "4. <sup id=\"bibliography4\"></sup> Cntor set - [https://en.wikipedia.org/wiki/Cantor_set#Historical_remarks](https://en.wikipedia.org/wiki/Cantor_set#Historical_remarks)\n",
    "5. <sup id=\"bibliography5\"></sup> Cantor set in topology, analysis and finacial markets - http://math.uchicago.edu/~may/REU2021/REUPapers/Jin,Alexa.pdf](http://math.uchicago.edu/~may/REU2021/REUPapers/Jin,Alexa.pdf)\n",
    "6. <sup id=\"bibliography6\"></sup> Smith–Volterra–Cantor set - [https://en.wikipedia.org/wiki/Smith%E2%80%93Volterra%E2%80%93Cantor_set](https://en.wikipedia.org/wiki/Smith%E2%80%93Volterra%E2%80%93Cantor_set)\n",
    "7. <sup id=\"bibliography7\"></sup> Cantor Dust - [https://www.robertdickau.com/cantor.html](https://www.robertdickau.com/cantor.html)\n",
    "8. <sup id=\"bibliography8\"></sup> Cantor function - [https://en.wikipedia.org/wiki/Cantor_function](https://en.wikipedia.org/wiki/Cantor_function)\n",
    "9. <sup id=\"bibliography9\"></sup> Lossless Data Compression with Error Detection using Cantor Set - [https://arxiv.org/pdf/1308.2299](https://arxiv.org/pdf/1308.2299)\n",
    "10. <sup id=\"bibliography10\"></sup> Cantor Set as a Fractal and Its Application in Detecting Chaotic Nature of Piecewise Linear Maps - [https://www.academia.edu/39617845/Cantor_Set_as_a_Fractal_and_Its_Application_in_Detecting_Chaotic_Nature_of_Piecewise_Linear_Maps](https://www.academia.edu/39617845/Cantor_Set_as_a_Fractal_and_Its_Application_in_Detecting_Chaotic_Nature_of_Piecewise_Linear_Maps)\n",
    "\n",
    "\n",
    "11. Set theory - [https://plato.stanford.edu/entries/set-theory/](https://plato.stanford.edu/entries/set-theory/)\n",
    "12. Line segment - [https://en.wikipedia.org/wiki/Line_segment](https://en.wikipedia.org/wiki/Line_segment)\n",
    "13. Lebesgue measure - [https://en.wikipedia.org/wiki/Lebesgue_measure](https://en.wikipedia.org/wiki/Lebesgue_measure)\n",
    "14. The Cantor set - a brief introduction - [https://www.math.uwaterloo.ca/~xzliu/cantor-set.pdf](https://www.math.uwaterloo.ca/~xzliu/cantor-set.pdf)"
   ]
  }
 ],
 "metadata": {
  "kernelspec": {
   "display_name": "Python 3 (ipykernel)",
   "language": "python",
   "name": "python3"
  },
  "language_info": {
   "codemirror_mode": {
    "name": "ipython",
    "version": 3
   },
   "file_extension": ".py",
   "mimetype": "text/x-python",
   "name": "python",
   "nbconvert_exporter": "python",
   "pygments_lexer": "ipython3",
   "version": "3.11.7"
  },
  "toc-autonumbering": false
 },
 "nbformat": 4,
 "nbformat_minor": 5
}
